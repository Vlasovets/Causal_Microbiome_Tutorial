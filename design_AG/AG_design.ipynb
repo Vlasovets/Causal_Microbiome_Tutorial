{
 "cells": [
  {
   "cell_type": "code",
   "execution_count": null,
   "id": "b15effd7-41ae-49b7-946b-13530879d1c4",
   "metadata": {
    "tags": []
   },
   "outputs": [],
   "source": [
    "# !pip install pyreadr\n",
    "# !pip install plotly\n",
    "\n",
    "# !conda install -c conda-forge nodejs -y\n",
    "# !conda install -c conda-forge/label/gcc7 nodejs -y\n",
    "# !conda install -c conda-forge/label/cf201901 nodejs -y\n",
    "# !conda install -c conda-forge/label/cf202003 nodejs -y\n",
    "\n",
    "# !jupyter labextension install jupyterlab-plotly\n",
    "# !pip install scipy\n",
    "# !pip install -U kaleido"
   ]
  },
  {
   "cell_type": "code",
   "execution_count": null,
   "id": "015f07a8-397f-4b8b-96b5-035afa7cb276",
   "metadata": {},
   "outputs": [],
   "source": [
    "import pyreadr\n",
    "import os\n",
    "import pandas as pd\n",
    "import numpy as np\n",
    "import plotly as plt\n",
    "import plotly.express as px\n",
    "import scipy\n",
    "import plotly.figure_factory as ff\n",
    "import kaleido"
   ]
  },
  {
   "cell_type": "code",
   "execution_count": null,
   "id": "c26c5a59-e722-46fe-baef-1d467adb0d7d",
   "metadata": {},
   "outputs": [],
   "source": [
    "ag_data = pd.read_csv(\"agdata_smoke.csv\", sep=\",\", low_memory=False)\n",
    "ag_data.head()"
   ]
  },
  {
   "cell_type": "code",
   "execution_count": null,
   "id": "25f03fb0-26fb-472f-b320-75ffde45e0cb",
   "metadata": {},
   "outputs": [],
   "source": [
    "ag_data.columns"
   ]
  },
  {
   "cell_type": "markdown",
   "id": "732cf5b2-594c-4630-93f3-02e505461686",
   "metadata": {},
   "source": [
    "W - exposure to smoking variable"
   ]
  },
  {
   "cell_type": "code",
   "execution_count": null,
   "id": "f9232999-6c4f-4fa7-a4c9-a4f8da5ce1f8",
   "metadata": {},
   "outputs": [],
   "source": [
    "# from preprocessing R code\n",
    "# data[data$smoking_frequency == \"Daily\",]$W <- 0 # raucher\n",
    "# data[data$smoking_frequency == \"Never\",]$W <- 1 # nie-raucher"
   ]
  },
  {
   "cell_type": "code",
   "execution_count": null,
   "id": "b9d8ef64-9b61-4f35-b6c0-157ab589d226",
   "metadata": {},
   "outputs": [],
   "source": [
    "smokers = ag_data[ag_data[\"W\"] == 0]\n",
    "non_smokers = ag_data[ag_data[\"W\"] == 1]\n",
    "\n",
    "\n",
    "print(\"Number of smokers - {0}\".format(len(smokers)))\n",
    "print(\"Number of non-smokers - {0}\".format(len(non_smokers)))"
   ]
  },
  {
   "cell_type": "code",
   "execution_count": null,
   "id": "81f0e0fc-2395-45c3-8189-efb2f6ee2c49",
   "metadata": {},
   "outputs": [],
   "source": [
    "df = ag_data.copy()\n",
    "\n",
    "# df[\"W\"] = df[\"W\"].astype(int)\n",
    "df[\"W_str\"] = df[\"W\"].map({1: \"No\", 0: 'Yes'})"
   ]
  },
  {
   "cell_type": "code",
   "execution_count": null,
   "id": "eb544697-e458-4d0c-acfd-5c3fda86382b",
   "metadata": {},
   "outputs": [],
   "source": [
    "### Sex\n",
    "\n",
    "fig = px.histogram(df, x=\"W_str\", color=\"sex\", barnorm='percent', text_auto=\".2f\",\n",
    "                   width=800, height=400)\n",
    "\n",
    "fig.update_layout(\n",
    "    title_text='AG Project: Ratio between male and female (non)smokers', # title of plot\n",
    "    xaxis_title_text='Smoking', # xaxis label\n",
    "    yaxis_title_text='Percentage', # yaxis label\n",
    "    bargap=0.1, # gap between bars of adjacent location coordinates\n",
    "    bargroupgap=0.1 # gap between bars of the same location coordinates\n",
    ")\n",
    "fig.show()\n",
    "\n",
    "#create plots dir\n",
    "if not os.path.exists(\"plots\"):\n",
    "    os.mkdir(\"plots\")\n",
    "\n",
    "fig.write_image(\"plots/AG_sex.png\")"
   ]
  },
  {
   "cell_type": "code",
   "execution_count": null,
   "id": "ab72557c-8fbe-4081-8303-516afb81e9f5",
   "metadata": {},
   "outputs": [],
   "source": [
    "### Age\n",
    "\n",
    "fig = px.histogram(df, x=\"W_str\", color=\"age_cat\", barnorm='percent', text_auto=\".2f\",\n",
    "                   width=800, height=400)\n",
    "\n",
    "fig.update_layout(\n",
    "    title_text='AG Project: Age ratio between (non)smokers', # title of plot\n",
    "    xaxis_title_text='Smoking', # xaxis label\n",
    "    yaxis_title_text='Percentage', # yaxis label\n",
    "    bargap=0.1, # gap between bars of adjacent location coordinates\n",
    "    bargroupgap=0.1 # gap between bars of the same location coordinates\n",
    ")\n",
    "fig.show()\n",
    "fig.write_image(\"plots/AG_age.png\")"
   ]
  },
  {
   "cell_type": "code",
   "execution_count": null,
   "id": "e7a516ed-41a1-477c-a0a5-5167e00a9b2c",
   "metadata": {},
   "outputs": [],
   "source": [
    "### BMI\n",
    "\n",
    "hist_data = [smokers[\"bmi_corrected\"], non_smokers[\"bmi_corrected\"]]\n",
    "\n",
    "group_labels = ['Smokers', 'Non-smokers']\n",
    "\n",
    "colors = ['slategray', 'magenta']\n",
    "\n",
    "fig = ff.create_distplot(hist_data, group_labels, bin_size=2, show_rug=False,\n",
    "                         histnorm=\"probability density\", colors=colors)\n",
    "\n",
    "\n",
    "fig.update_layout(\n",
    "    title_text='AG Project: BMI probability density of (non)smokers', # title of plot\n",
    "    xaxis_title_text=\"BMI (kg/m2)\", # xaxis label\n",
    "    yaxis_title_text='Probability density', # yaxis label\n",
    "    bargap=0.1, # gap between bars of adjacent location coordinates\n",
    "    bargroupgap=0.01 # gap between bars of the same location coordinates\n",
    ")\n",
    "fig.show()\n",
    "fig.write_image(\"plots/AG_bmi.png\")"
   ]
  },
  {
   "cell_type": "markdown",
   "id": "635282ab-e7ab-4e3b-9c23-b2ec4ef76895",
   "metadata": {},
   "source": [
    "## Create pairs of samples"
   ]
  },
  {
   "cell_type": "code",
   "execution_count": null,
   "id": "0b23590e-2e78-4b81-8850-fe2a74208004",
   "metadata": {},
   "outputs": [],
   "source": [
    "df_match = ag_data.copy()\n",
    "df_match.shape"
   ]
  },
  {
   "cell_type": "code",
   "execution_count": null,
   "id": "6c89d4f4-b587-4ef3-89aa-ce7d1ae0deeb",
   "metadata": {},
   "outputs": [],
   "source": [
    "df_match[\"is_treated\"] = df_match[\"W\"].astype(bool)\n",
    "df_match[\"pair_nb\"] = np.nan\n",
    "\n",
    "df_match.shape"
   ]
  },
  {
   "cell_type": "code",
   "execution_count": null,
   "id": "2a561605-13bc-4330-833d-ae0f89c24ddd",
   "metadata": {},
   "outputs": [],
   "source": [
    "# Optional weights for each covariate when computing the distances\n",
    "# WARNING: the order of the items in scaling needs to be the same as the order of the covariates (i.e. columns)\n",
    "scaling =  np.ones((df_match.shape[1],), dtype=int)\n",
    "\n",
    "scaling.shape"
   ]
  },
  {
   "cell_type": "code",
   "execution_count": null,
   "id": "0ebd86b5-6c93-4982-9fed-5f28566ee324",
   "metadata": {},
   "outputs": [],
   "source": [
    "sex_ix = df_match.columns.get_loc(\"sex\")\n",
    "age_cat_ix = df_match.columns.get_loc(\"age_cat\")\n",
    "bmi_corrected_ix = df_match.columns.get_loc(\"bmi_corrected\")"
   ]
  },
  {
   "cell_type": "code",
   "execution_count": null,
   "id": "b439c142-d070-4272-b87b-c86d7afed1a8",
   "metadata": {},
   "outputs": [],
   "source": [
    "# set the thresholds for each covariate, default is Inf (i.e. no matching)\n",
    "thresholds =  np.empty((df_match.shape[1], ))\n",
    "thresholds[:] = np.nan\n",
    "\n",
    "# set particular values\n",
    "thresholds[sex_ix] = 0\n",
    "thresholds[age_cat_ix] = 1\n",
    "thresholds[bmi_corrected_ix] = 4\n",
    "\n",
    "thresholds.shape\n",
    "\n",
    "# for i in [sex_ix, age_cat_ix, bmi_corrected_ix]:\n",
    "#     print(thresholds[i])"
   ]
  },
  {
   "cell_type": "code",
   "execution_count": null,
   "id": "39a32625-0b8f-4df6-b0ef-8ac50b6c71c6",
   "metadata": {},
   "outputs": [],
   "source": [
    "relevant_fields = [\"sex\", \"age_cat\", \"bmi_corrected\", \"is_treated\"]"
   ]
  },
  {
   "cell_type": "code",
   "execution_count": null,
   "id": "364e5c9c-9e19-4e45-8661-3e64c9e700b6",
   "metadata": {},
   "outputs": [],
   "source": [
    "# ask Steffi why we are not reindexing\n",
    "# treated_units = df_match[df_match[\"is_treated\"] == True].reset_index(drop=True)\n",
    "# control_units = df_match[df_match[\"is_treated\"] == False].reset_index(drop=True)\n",
    "\n",
    "treated_units = df_match[df_match[\"is_treated\"] == True]\n",
    "control_units = df_match[df_match[\"is_treated\"] == False]\n",
    "\n",
    "N_treated = treated_units.shape[0]\n",
    "N_control = control_units.shape[0]\n",
    "\n",
    "print(\"Number of treated units: {0}\".format(N_treated))\n",
    "print(\"Number of control units: {0}\".format(N_control))"
   ]
  },
  {
   "cell_type": "code",
   "execution_count": null,
   "id": "d8ea26f3-64c8-4108-ab6e-bc00a329fbfe",
   "metadata": {},
   "outputs": [],
   "source": [
    "N_control"
   ]
  },
  {
   "cell_type": "code",
   "execution_count": null,
   "id": "6e9c1acb-ca4d-441c-b9ac-d6266c6b90f5",
   "metadata": {},
   "outputs": [],
   "source": [
    "# pairwise difference between real-univariate covariate of treated VS control group\n",
    "def pairDist(treated=np.array, control=np.array):\n",
    "        \n",
    "    D = treated[:, None] - control\n",
    "    \n",
    "    return D\n",
    "\n",
    "\n",
    "# pairwise absolute difference between real-univariate covariates of treated VS control group\n",
    "def abs_pairDist(treated=np.array, control=np.array):\n",
    "        \n",
    "    D = np.abs(treated[:, None] - control)\n",
    "    \n",
    "    return D\n",
    "\n",
    "\n",
    "# pairwise difference between factor-valued (i.e. bounded integer-valued) covariates \n",
    "# (e.g. day of the week, month, ...) of treated VS control group, assuming the facotr levels are cyclic\n",
    "# and only the shortest difference modulo nb_levels matters.\n",
    "def pairModuloDist(treated=np.array, control=np.array, nb_levels=int):\n",
    "    # test here\n",
    "    \n",
    "    categorical_treated = False\n",
    "    t_str_value = []\n",
    "    \n",
    "    for i in t:\n",
    "        if isinstance(i, str):\n",
    "            t_str_value.append(True)\n",
    "            \n",
    "    if np.any(t_str_value):\n",
    "        categorical_treated = True\n",
    "    \n",
    "    if categorical_treated:\n",
    "        treated = pd.get_dummies(treated)\n",
    "        treated = treated.values.argmax(1)\n",
    "        \n",
    "    categorical_control = False\n",
    "    c_str_value = []\n",
    "    \n",
    "    for i in t:\n",
    "        if isinstance(i, str):\n",
    "            c_str_value.append(True)\n",
    "            \n",
    "    if np.any(c_str_value):\n",
    "        categorical_control = True\n",
    "            \n",
    "    if categorical_control:\n",
    "        control = pd.get_dummies(control, dummy_na=True) # Add a column to indicate NaNs, if False NaNs are ignored.\n",
    "        control = control.values.argmax(1) #Returns the indices of the maximum values along the y-axis.\n",
    "        \n",
    "    \n",
    "    treated_control = pairDist(treated.astype(int), control.astype(int)) % nb_levels\n",
    "    control_treated = pairDist(control.astype(int), treated.astype(int)) % nb_levels\n",
    "    \n",
    "    pmin = np.minimum(treated_control, np.transpose(control_treated))\n",
    "    \n",
    "    return pmin\n",
    "\n",
    "\n",
    "\n",
    "# pairwise difference between covariates of treated VS control group\n",
    "# Inputs: treated/control are of covariate vectors (one entry per unit, for a given covariate)\n",
    "# Outputs: pairwise difference matrix\n",
    "def pairdifference(treated=np.array, control=np.array):\n",
    "    \n",
    "    categorical = False\n",
    "    str_value = []\n",
    "    \n",
    "    for i in treated:\n",
    "        if isinstance(i, str):\n",
    "            str_value.append(True)\n",
    "            \n",
    "    if np.any(str_value):\n",
    "        categorical = True\n",
    "            \n",
    "    \n",
    "    if categorical:\n",
    "        \n",
    "        nb_levels = len(set(treated))\n",
    "        D_mod = pairModuloDist(treated, control, nb_levels)\n",
    "        \n",
    "        return D_mod\n",
    "    \n",
    "    else:\n",
    "        \n",
    "        D_abs = abs_pairDist(treated,control)\n",
    "        \n",
    "        return D_abs\n",
    "    \n",
    "    \n",
    "def discrepancyMatrix(treated, control, thresholds, scaling=None):\n",
    "    \n",
    "    nb_covariates = treated.shape[1]\n",
    "    \n",
    "    nrow = treated.shape[0]\n",
    "    ncol = control.shape[0]\n",
    "    D = np.zeros(shape=(nrow, ncol))\n",
    "    \n",
    "    non_admissible = np.full((nrow, ncol), False)\n",
    "    \n",
    "    for i in range(0, nb_covariates):\n",
    "        \n",
    "        if not np.isnan(thresholds[i]):\n",
    "            \n",
    "            t = np.array(treated.iloc[:, i])\n",
    "            c = np.array(control.iloc[:, i])\n",
    "            \n",
    "            differences = pairdifference(t, c)\n",
    "            D = D + differences*scaling[i]\n",
    "            \n",
    "            \n",
    "            differences[np.isnan(differences)] = 0\n",
    "            # differences = differences.fillna(np.inf)\n",
    "             \n",
    "            if thresholds[i] >= 0:\n",
    "            \n",
    "                non_admissible = non_admissible + (differences > thresholds[i])\n",
    "            \n",
    "            elif thresholds[i] < 0:\n",
    "            \n",
    "                non_admissible = non_admissible + (differences <= np.abs(thresholds[i]))\n",
    "    \n",
    "    D = D / nb_covariates\n",
    "    \n",
    "    D[non_admissible] = np.nan\n",
    "    \n",
    "    return D"
   ]
  },
  {
   "cell_type": "code",
   "execution_count": null,
   "id": "3d337ba5-3e39-42bc-b504-8300737f3098",
   "metadata": {
    "tags": []
   },
   "outputs": [],
   "source": [
    "D = discrepancyMatrix(treated_units, control_units, thresholds, scaling)"
   ]
  },
  {
   "cell_type": "code",
   "execution_count": null,
   "id": "ca1373c2-ff6f-4ac6-94f6-9dbc4d9766fa",
   "metadata": {},
   "outputs": [],
   "source": []
  }
 ],
 "metadata": {
  "kernelspec": {
   "display_name": "Python 3 (ipykernel)",
   "language": "python",
   "name": "python3"
  },
  "language_info": {
   "codemirror_mode": {
    "name": "ipython",
    "version": 3
   },
   "file_extension": ".py",
   "mimetype": "text/x-python",
   "name": "python",
   "nbconvert_exporter": "python",
   "pygments_lexer": "ipython3",
   "version": "3.10.2"
  }
 },
 "nbformat": 4,
 "nbformat_minor": 5
}
