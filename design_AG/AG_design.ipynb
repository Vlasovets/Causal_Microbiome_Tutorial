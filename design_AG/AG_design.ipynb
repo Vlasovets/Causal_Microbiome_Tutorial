{
 "cells": [
  {
   "cell_type": "code",
   "execution_count": null,
   "id": "b15effd7-41ae-49b7-946b-13530879d1c4",
   "metadata": {
    "tags": []
   },
   "outputs": [],
   "source": [
    "# !pip install pyreadr\n",
    "# !pip install plotly\n",
    "\n",
    "# !conda install -c conda-forge nodejs -y\n",
    "# !conda install -c conda-forge/label/gcc7 nodejs -y\n",
    "# !conda install -c conda-forge/label/cf201901 nodejs -y\n",
    "# !conda install -c conda-forge/label/cf202003 nodejs -y\n",
    "\n",
    "# !jupyter labextension install jupyterlab-plotly\n",
    "# !pip install scipy\n",
    "# !pip install -U kaleido\n",
    "# !pip install networkx\n",
    "# !pip install matplotlib\n",
    "# !pip install igraph"
   ]
  },
  {
   "cell_type": "code",
   "execution_count": null,
   "id": "015f07a8-397f-4b8b-96b5-035afa7cb276",
   "metadata": {},
   "outputs": [],
   "source": [
    "import pyreadr\n",
    "import os\n",
    "import pandas as pd\n",
    "import numpy as np\n",
    "import plotly as plt\n",
    "import plotly.express as px\n",
    "import scipy\n",
    "import plotly.figure_factory as ff\n",
    "import kaleido\n",
    "import matplotlib.pyplot as plt\n",
    "\n",
    "from matplotlib.pyplot import figure\n",
    "\n",
    "\n",
    "from pair_matching import discrepancyMatrix\n",
    "\n",
    "import igraph as ig\n",
    "from igraph import Graph"
   ]
  },
  {
   "cell_type": "code",
   "execution_count": null,
   "id": "c26c5a59-e722-46fe-baef-1d467adb0d7d",
   "metadata": {},
   "outputs": [],
   "source": [
    "ag_data = pd.read_csv(\"agdata_smoke.csv\", sep=\",\", low_memory=False)\n",
    "ag_data.shape"
   ]
  },
  {
   "cell_type": "markdown",
   "id": "732cf5b2-594c-4630-93f3-02e505461686",
   "metadata": {},
   "source": [
    "W - exposure to smoking variable"
   ]
  },
  {
   "cell_type": "code",
   "execution_count": null,
   "id": "b9d8ef64-9b61-4f35-b6c0-157ab589d226",
   "metadata": {},
   "outputs": [],
   "source": [
    "smokers = ag_data[ag_data[\"W\"] == 0] # smoker\n",
    "non_smokers = ag_data[ag_data[\"W\"] == 1] # non-smoker\n",
    "\n",
    "\n",
    "print(\"Number of smokers - {0}\".format(len(smokers)))\n",
    "print(\"Number of non-smokers - {0}\".format(len(non_smokers)))"
   ]
  },
  {
   "cell_type": "code",
   "execution_count": null,
   "id": "81f0e0fc-2395-45c3-8189-efb2f6ee2c49",
   "metadata": {},
   "outputs": [],
   "source": [
    "df = ag_data.copy()\n",
    "\n",
    "df[\"W_str\"] = df[\"W\"].map({1: \"No\", 0: 'Yes'})"
   ]
  },
  {
   "cell_type": "code",
   "execution_count": null,
   "id": "eb544697-e458-4d0c-acfd-5c3fda86382b",
   "metadata": {},
   "outputs": [],
   "source": [
    "### Sex\n",
    "\n",
    "fig = px.histogram(df, x=\"W_str\", color=\"sex\", barnorm='percent', text_auto=\".2f\",\n",
    "                   width=800, height=400)\n",
    "\n",
    "fig.update_layout(\n",
    "    title_text='AG Project: Ratio between male and female (non)smokers', # title of plot\n",
    "    xaxis_title_text='Smoking', # xaxis label\n",
    "    yaxis_title_text='Percentage', # yaxis label\n",
    "    bargap=0.1, # gap between bars of adjacent location coordinates\n",
    "    bargroupgap=0.1 # gap between bars of the same location coordinates\n",
    ")\n",
    "fig.show()\n",
    "\n",
    "#create plots dir\n",
    "if not os.path.exists(\"plots\"):\n",
    "    os.mkdir(\"plots\")\n",
    "\n",
    "# fig.write_image(\"plots/AG_sex.png\")"
   ]
  },
  {
   "cell_type": "code",
   "execution_count": null,
   "id": "9510216e-a95d-435b-bfe5-acbdf3391e21",
   "metadata": {},
   "outputs": [],
   "source": [
    "df[\"age_cat\"].unique()"
   ]
  },
  {
   "cell_type": "code",
   "execution_count": null,
   "id": "ab72557c-8fbe-4081-8303-516afb81e9f5",
   "metadata": {},
   "outputs": [],
   "source": [
    "### Age\n",
    "\n",
    "color_discrete_map = {'20s': '#EB2222', '30s': '#3C15DB', '40s': '#17C428',\n",
    "                      '50s': '#F626E1', '60s': \"#F6F626\", '70+': \"#26F6EF\"}\n",
    "\n",
    "fig = px.histogram(df, x=\"W_str\", color=\"age_cat\", barnorm='percent', text_auto=\".2f\",\n",
    "                   color_discrete_map=color_discrete_map, width=800, height=400)\n",
    "\n",
    "fig.update_layout(\n",
    "    title_text='AG Project: Age ratio between (non)smokers', # title of plot\n",
    "    xaxis_title_text='Smoking', # xaxis label\n",
    "    yaxis_title_text='Percentage', # yaxis label\n",
    "    bargap=0.1, # gap between bars of adjacent location coordinates\n",
    "    bargroupgap=0.1 # gap between bars of the same location coordinates\n",
    ")\n",
    "fig.show()\n",
    "fig.write_image(\"plots/AG_age.png\")"
   ]
  },
  {
   "cell_type": "code",
   "execution_count": null,
   "id": "e7a516ed-41a1-477c-a0a5-5167e00a9b2c",
   "metadata": {},
   "outputs": [],
   "source": [
    "### BMI\n",
    "\n",
    "hist_data = [smokers[\"bmi_corrected\"], non_smokers[\"bmi_corrected\"]]\n",
    "\n",
    "group_labels = ['Smokers', 'Non-smokers']\n",
    "\n",
    "colors = ['slategray', 'magenta']\n",
    "\n",
    "fig = ff.create_distplot(hist_data, group_labels, bin_size=2, show_rug=False,\n",
    "                         histnorm=\"probability density\", colors=colors)\n",
    "\n",
    "\n",
    "fig.update_layout(\n",
    "    title_text='AG Project: BMI probability density of (non)smokers', # title of plot\n",
    "    xaxis_title_text=\"BMI (kg/m2)\", # xaxis label\n",
    "    yaxis_title_text='Probability density', # yaxis label\n",
    "    bargap=0.1, # gap between bars of adjacent location coordinates\n",
    "    bargroupgap=0.01 # gap between bars of the same location coordinates\n",
    ")\n",
    "fig.show()\n",
    "# fig.write_image(\"plots/AG_bmi.png\")"
   ]
  },
  {
   "cell_type": "markdown",
   "id": "635282ab-e7ab-4e3b-9c23-b2ec4ef76895",
   "metadata": {},
   "source": [
    "## Create pairs of samples"
   ]
  },
  {
   "cell_type": "code",
   "execution_count": null,
   "id": "0b23590e-2e78-4b81-8850-fe2a74208004",
   "metadata": {},
   "outputs": [],
   "source": [
    "df_match = ag_data.copy()\n",
    "df_match.shape"
   ]
  },
  {
   "cell_type": "code",
   "execution_count": null,
   "id": "6c89d4f4-b587-4ef3-89aa-ce7d1ae0deeb",
   "metadata": {},
   "outputs": [],
   "source": [
    "df_match[\"is_treated\"] = df_match[\"W\"].astype(bool)\n",
    "df_match[\"pair_nb\"] = np.nan\n",
    "\n",
    "df_match.shape"
   ]
  },
  {
   "cell_type": "code",
   "execution_count": null,
   "id": "2a561605-13bc-4330-833d-ae0f89c24ddd",
   "metadata": {},
   "outputs": [],
   "source": [
    "# Optional weights for each covariate when computing the distances\n",
    "# WARNING: the order of the items in scaling needs to be the same as the order of the covariates (i.e. columns)\n",
    "scaling =  np.ones((df_match.shape[1],), dtype=int)\n",
    "\n",
    "scaling.shape"
   ]
  },
  {
   "cell_type": "code",
   "execution_count": null,
   "id": "0ebd86b5-6c93-4982-9fed-5f28566ee324",
   "metadata": {},
   "outputs": [],
   "source": [
    "sex_ix = df_match.columns.get_loc(\"sex\")\n",
    "age_cat_ix = df_match.columns.get_loc(\"age_cat\")\n",
    "bmi_corrected_ix = df_match.columns.get_loc(\"bmi_corrected\")"
   ]
  },
  {
   "cell_type": "code",
   "execution_count": null,
   "id": "b439c142-d070-4272-b87b-c86d7afed1a8",
   "metadata": {},
   "outputs": [],
   "source": [
    "# set the thresholds for each covariate, default is Inf (i.e. no matching)\n",
    "thresholds =  np.empty((df_match.shape[1], ))\n",
    "thresholds[:] = np.nan\n",
    "\n",
    "# set particular values\n",
    "thresholds[sex_ix] = 0\n",
    "thresholds[age_cat_ix] = 1\n",
    "thresholds[bmi_corrected_ix] = 4"
   ]
  },
  {
   "cell_type": "code",
   "execution_count": null,
   "id": "39a32625-0b8f-4df6-b0ef-8ac50b6c71c6",
   "metadata": {},
   "outputs": [],
   "source": [
    "relevant_fields = [\"sex\", \"age_cat\", \"bmi_corrected\", \"is_treated\"]"
   ]
  },
  {
   "cell_type": "code",
   "execution_count": null,
   "id": "364e5c9c-9e19-4e45-8661-3e64c9e700b6",
   "metadata": {},
   "outputs": [],
   "source": [
    "# ask Stephan why we are not reindexing\n",
    "# treated_units = df_match[df_match[\"is_treated\"] == True].reset_index(drop=True)\n",
    "# control_units = df_match[df_match[\"is_treated\"] == False].reset_index(drop=True)\n",
    "\n",
    "treated_units = df_match[df_match[\"is_treated\"] == True]\n",
    "control_units = df_match[df_match[\"is_treated\"] == False]\n",
    "\n",
    "N_treated = treated_units.shape[0]\n",
    "N_control = control_units.shape[0]\n",
    "\n",
    "print(\"Number of treated units: {0}\".format(N_treated))\n",
    "print(\"Number of control units: {0}\".format(N_control))"
   ]
  },
  {
   "cell_type": "code",
   "execution_count": null,
   "id": "3d337ba5-3e39-42bc-b504-8300737f3098",
   "metadata": {
    "tags": []
   },
   "outputs": [],
   "source": [
    "discrepancies = discrepancyMatrix(treated_units, control_units, thresholds, scaling)\n",
    "discrepancies.shape"
   ]
  },
  {
   "cell_type": "markdown",
   "id": "0ee43769-de45-4e47-b6c1-1271bdac8fc5",
   "metadata": {},
   "source": [
    "### Network construction"
   ]
  },
  {
   "cell_type": "code",
   "execution_count": null,
   "id": "ca1373c2-ff6f-4ac6-94f6-9dbc4d9766fa",
   "metadata": {},
   "outputs": [],
   "source": [
    "# if there is ni edge -> True\n",
    "adj = np.isnan(discrepancies)\n",
    "\n",
    "#indices of existing edges\n",
    "edges_mat = np.argwhere(adj == False)\n",
    "\n",
    "adj.shape, edges_mat.shape"
   ]
  },
  {
   "cell_type": "markdown",
   "id": "758639ad-95bf-44dd-938d-883ba26ec93e",
   "metadata": {},
   "source": [
    "!!! indices are sorted"
   ]
  },
  {
   "cell_type": "code",
   "execution_count": null,
   "id": "eb9b0bc1-79e6-4383-937a-7a5a4bfdf37e",
   "metadata": {},
   "outputs": [],
   "source": [
    "weights = []\n",
    "\n",
    "for i in range(0, edges_mat.shape[0]):\n",
    "    \n",
    "    row = edges_mat[i][0]\n",
    "    col = edges_mat[i][1]\n",
    "    \n",
    "    w = 1 / (1 + discrepancies[row][col])\n",
    "    \n",
    "    weights.append(w)\n",
    "    \n",
    "weights = np.array(weights)\n",
    "weights.shape"
   ]
  },
  {
   "cell_type": "code",
   "execution_count": null,
   "id": "1a23df48-36c6-4599-ab9a-b8e2d276df5e",
   "metadata": {},
   "outputs": [],
   "source": [
    "edges_vector = edges_mat\n",
    "\n",
    "for i in range(0, edges_vector.shape[0]):\n",
    "    edges_mat[i][1] = edges_vector[i][1] + N_treated"
   ]
  },
  {
   "cell_type": "code",
   "execution_count": null,
   "id": "c3f35e1f-4610-467c-9a54-b1a4662ae834",
   "metadata": {},
   "outputs": [],
   "source": [
    "edges_vector = edges_mat.flatten()\n",
    "edges_vector.shape"
   ]
  },
  {
   "cell_type": "code",
   "execution_count": null,
   "id": "3d16c147-eb63-4283-a64e-627bb1a83d8b",
   "metadata": {},
   "outputs": [],
   "source": [
    "t_nodes = np.repeat(True, N_treated)\n",
    "c_nodes = np.repeat(False, N_control)\n",
    "\n",
    "nodes = np.concatenate((t_nodes, c_nodes), axis=None)\n",
    "nodes.shape"
   ]
  },
  {
   "cell_type": "code",
   "execution_count": null,
   "id": "9cdc40cb-27f3-4c81-8d0a-546ff75bc1ec",
   "metadata": {},
   "outputs": [],
   "source": [
    "g = ig.Graph.Bipartite(nodes, edges_mat)\n",
    "assert g.is_bipartite()"
   ]
  },
  {
   "cell_type": "code",
   "execution_count": null,
   "id": "ec8929d0-78c2-44aa-acd1-71964b2e0a72",
   "metadata": {},
   "outputs": [],
   "source": [
    "matching = g.maximum_bipartite_matching(weights=weights)"
   ]
  },
  {
   "cell_type": "code",
   "execution_count": null,
   "id": "c491756c-8f18-4f86-a67d-8dfb49862197",
   "metadata": {},
   "outputs": [],
   "source": [
    "print(\"Number of pairs - {0}\".format(len(g.es)))"
   ]
  },
  {
   "cell_type": "code",
   "execution_count": null,
   "id": "34196e5c-3cd2-444a-97c0-2df6b6dac064",
   "metadata": {
    "tags": []
   },
   "outputs": [],
   "source": [
    "pairs_dict = dict()\n",
    "N_matched = 0\n",
    "\n",
    "for i in range(0, N_treated):\n",
    "    if matching.is_matched(i):\n",
    "        N_matched += 1\n",
    "        pairs_dict[N_matched] = [i, matching.match_of(i) - N_treated]"
   ]
  },
  {
   "cell_type": "code",
   "execution_count": null,
   "id": "9838f2b1-f8ad-4824-82b3-c916c3201129",
   "metadata": {},
   "outputs": [],
   "source": [
    "#sanity check\n",
    "matched = []\n",
    "total_nb_match = 0\n",
    "\n",
    "for i in range(1, N_matched):\n",
    "    total_nb_match = total_nb_match + 1\n",
    "    \n",
    "    # save pair number\n",
    "    treated_units[\"pair_nb\"][pairs_dict[i][0]] = total_nb_match\n",
    "    control_units[\"pair_nb\"][pairs_dict[i][1]] = total_nb_match\n",
    "    \n",
    "    matched.append(treated_units.iloc[pairs_dict[i][0], :])\n",
    "    matched.append(control_units.iloc[pairs_dict[i][1], :])"
   ]
  },
  {
   "cell_type": "code",
   "execution_count": null,
   "id": "028802ac-cffd-4de8-997d-afe9d7c040bd",
   "metadata": {},
   "outputs": [],
   "source": [
    "matched_df = pd.DataFrame(matched, columns=treated_units.columns)"
   ]
  },
  {
   "cell_type": "code",
   "execution_count": null,
   "id": "498563f5-4617-411f-b2a8-e207e04e733f",
   "metadata": {},
   "outputs": [],
   "source": [
    "print(\"Number of pairs: {0}\".format(len(matched_df.W)))\n",
    "print(\"Number of smokers: {0}\".format(len(matched_df[matched_df.W == 0])))\n",
    "print(\"Number of non-smokers: {0}\".format(len(matched_df[matched_df.W == 1])))"
   ]
  },
  {
   "cell_type": "markdown",
   "id": "42ad598a-5616-4586-89c6-8ccb8925d079",
   "metadata": {},
   "source": [
    "### Plots after matching"
   ]
  },
  {
   "cell_type": "code",
   "execution_count": null,
   "id": "ba3aef55-5f00-4144-ac6a-2bdc81034db5",
   "metadata": {},
   "outputs": [],
   "source": [
    "df1 = matched_df.copy()\n",
    "\n",
    "df1[\"W_str\"] = df1[\"W\"].map({1: \"No\", 0: 'Yes'})"
   ]
  },
  {
   "cell_type": "code",
   "execution_count": null,
   "id": "a1757393-6070-475f-baa5-d57cd761d4b9",
   "metadata": {},
   "outputs": [],
   "source": [
    "### Sex\n",
    "\n",
    "fig = px.histogram(df1, x=\"W_str\", color=\"sex\", barnorm='percent', text_auto=\".2f\",\n",
    "                   width=800, height=400)\n",
    "\n",
    "fig.update_layout(\n",
    "    title_text='AG Project: Ratio between male and female (non)smokers', # title of plot\n",
    "    xaxis_title_text='Smoking', # xaxis label\n",
    "    yaxis_title_text='Percentage', # yaxis label\n",
    "    bargap=0.1, # gap between bars of adjacent location coordinates\n",
    "    bargroupgap=0.1 # gap between bars of the same location coordinates\n",
    ")\n",
    "fig.show()\n",
    "\n",
    "#create plots dir\n",
    "if not os.path.exists(\"plots\"):\n",
    "    os.mkdir(\"plots\")\n",
    "    \n",
    "fig.write_image(\"plots/AG_sex_after_matching.png.png\")"
   ]
  },
  {
   "cell_type": "code",
   "execution_count": null,
   "id": "0d9bcf71-16dc-455c-b359-da74cec8b05a",
   "metadata": {},
   "outputs": [],
   "source": [
    "### Age\n",
    "\n",
    "color_discrete_map = {'20s': '#EB2222', '30s': '#3C15DB', '40s': '#17C428',\n",
    "                      '50s': '#F626E1', '60s': \"#F6F626\", '70+': \"#26F6EF\"}\n",
    "\n",
    "fig = px.histogram(df1, x=\"W_str\", color=\"age_cat\", barnorm='percent', text_auto=\".2f\",\n",
    "                   color_discrete_map=color_discrete_map, width=800, height=400)\n",
    "\n",
    "fig.update_layout(\n",
    "    title_text='AG Project: Age ratio between (non)smokers', # title of plot\n",
    "    xaxis_title_text='Smoking', # xaxis label\n",
    "    yaxis_title_text='Percentage', # yaxis label\n",
    "    bargap=0.1, # gap between bars of adjacent location coordinates\n",
    "    bargroupgap=0.1 # gap between bars of the same location coordinates\n",
    ")\n",
    "fig.show()\n",
    "fig.write_image(\"plots/AG_age_after_matching.png\")"
   ]
  },
  {
   "cell_type": "code",
   "execution_count": null,
   "id": "50de7b78-e064-4600-9db1-fae135ee1bd0",
   "metadata": {},
   "outputs": [],
   "source": [
    "### BMI\n",
    "\n",
    "smokers1 = df1[df1[\"W\"] == 0] # smoker\n",
    "non_smokers1 = df1[df1[\"W\"] == 1] # non-smoker\n",
    "\n",
    "hist_data1 = [smokers1[\"bmi_corrected\"], non_smokers1[\"bmi_corrected\"]]\n",
    "\n",
    "group_labels = ['Smokers', 'Non-smokers']\n",
    "\n",
    "colors = ['slategray', 'magenta']\n",
    "\n",
    "fig = ff.create_distplot(hist_data1, group_labels, bin_size=2, show_rug=False,\n",
    "                         histnorm=\"probability density\", colors=colors)\n",
    "\n",
    "\n",
    "fig.update_layout(\n",
    "    title_text='AG Project: BMI probability density of (non)smokers', # title of plot\n",
    "    xaxis_title_text=\"BMI (kg/m2)\", # xaxis label\n",
    "    yaxis_title_text='Probability density', # yaxis label\n",
    "    bargap=0.1, # gap between bars of adjacent location coordinates\n",
    "    bargroupgap=0.01 # gap between bars of the same location coordinates\n",
    ")\n",
    "fig.show()\n",
    "fig.write_image(\"plots/AG_bmi_after_matching.png\")"
   ]
  },
  {
   "cell_type": "markdown",
   "id": "8e988b14-e4c7-4f5f-9681-66805c91d92f",
   "metadata": {},
   "source": [
    "### Sampling"
   ]
  },
  {
   "cell_type": "code",
   "execution_count": null,
   "id": "f37934fe-32e1-4ce5-ad36-f66fcf90bd59",
   "metadata": {},
   "outputs": [],
   "source": [
    "# define number of observations, number of treatment and number of \n",
    "\n",
    "# randomizations (n_col)\n",
    "n_total = matched_df.W.shape[0]\n",
    "n_treated = matched_df.W.sum()\n",
    "n_col = 10**5\n",
    "\n",
    "# init empty matrix\n",
    "W_sim = np.empty([n_total, n_col])\n",
    "\n",
    "for t in range(n_col):\n",
    "    W_sim_to_fill = np.empty(n_total)\n",
    "    flip_coin = np.random.binomial(n = 1, p = 0.5, size = n_treated)\n",
    "    W_sim_to_fill[np.arange(start = 0, stop = (n_total - 1), step = 2)] = flip_coin\n",
    "    W_sim_to_fill[np.arange(start = 1, stop = n_total, step = 2)] = 1 - flip_coin\n",
    "    W_sim[:, t] = W_sim_to_fill"
   ]
  },
  {
   "cell_type": "code",
   "execution_count": null,
   "id": "e5b413d1-21f4-4112-8205-83203ad75159",
   "metadata": {},
   "outputs": [],
   "source": [
    "print(\"Number of duplicated columns: {0}\".format(pd.DataFrame(W_sim).columns.duplicated().sum()))"
   ]
  }
 ],
 "metadata": {
  "kernelspec": {
   "display_name": "Python 3 (ipykernel)",
   "language": "python",
   "name": "python3"
  },
  "language_info": {
   "codemirror_mode": {
    "name": "ipython",
    "version": 3
   },
   "file_extension": ".py",
   "mimetype": "text/x-python",
   "name": "python",
   "nbconvert_exporter": "python",
   "pygments_lexer": "ipython3",
   "version": "3.10.2"
  }
 },
 "nbformat": 4,
 "nbformat_minor": 5
}
